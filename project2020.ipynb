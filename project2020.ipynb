{
 "cells": [
  {
   "cell_type": "markdown",
   "metadata": {},
   "source": [
    "PROJECT"
   ]
  },
  {
   "cell_type": "code",
   "execution_count": 9,
   "metadata": {},
   "outputs": [],
   "source": [
    "from Bio import SeqIO\n",
    "from Bio.SeqIO import SeqRecord\n",
    "from Bio.Seq import Seq\n",
    "from Bio import SeqUtils"
   ]
  },
  {
   "cell_type": "code",
   "execution_count": 11,
   "metadata": {},
   "outputs": [
    {
     "name": "stdout",
     "output_type": "stream",
     "text": [
      "aze\n"
     ]
    }
   ],
   "source": [
    "print('aze')"
   ]
  },
  {
   "cell_type": "markdown",
   "metadata": {},
   "source": [
    "Excercise 1"
   ]
  },
  {
   "cell_type": "code",
   "execution_count": 21,
   "metadata": {},
   "outputs": [],
   "source": [
    "headers = ['Seq01', 'Seq02', 'Seq03', 'Seq04']\n",
    "seqs = ['KMNPEDH', 'EILKMPWY', 'FNARPSVQFND', 'KMTPDE']\n",
    "fasta_filename = 'protein_1.fasta'"
   ]
  },
  {
   "cell_type": "code",
   "execution_count": 22,
   "metadata": {},
   "outputs": [],
   "source": [
    "def print_fasta(file_name, sequence_list, header_list):\n",
    "    with open(file_name, 'w') as file:\n",
    "        for i in range(len(sequence_list)):                #for each element in the lengt of the sequence list: print the header and the sequence \n",
    "            print(f'>{header_list[i]}', file=file)\n",
    "            print(sequence_list[i], file=file)"
   ]
  },
  {
   "cell_type": "code",
   "execution_count": 23,
   "metadata": {},
   "outputs": [],
   "source": [
    "print_fasta('protein_1.fasta', seqs, headers )           #making a fasta file with several sequences"
   ]
  },
  {
   "cell_type": "code",
   "execution_count": 24,
   "metadata": {},
   "outputs": [],
   "source": [
    "sequences = SeqIO.parse('protein_1.fasta', 'fasta')     #parsing the fasta file\n",
    "seq_list = list(sequences)                              #making a list of the records"
   ]
  },
  {
   "cell_type": "code",
   "execution_count": 25,
   "metadata": {},
   "outputs": [],
   "source": [
    "def molecular_weight (seq_list):\n",
    "    for seq_record in seq_list:\n",
    "        molecularWeight = 0.0                           #molecular weight starts at zero\n",
    "        for seq in f'{seq_record.seq}':                  #weight of the sequence is added \n",
    "            molecularWeight += SeqUtils.molecular_weight(seq, \"protein\")  \n",
    "        print(f'{seq_record.id} : Has a molecular weight of {str(round(molecularWeight, 2))} Da')    #molecular weight round to 2 decimals"
   ]
  },
  {
   "cell_type": "code",
   "execution_count": 26,
   "metadata": {},
   "outputs": [
    {
     "name": "stdout",
     "output_type": "stream",
     "text": [
      "Seq01 : Has a molecular weight of 978.03 Da\n",
      "Seq02 : Has a molecular weight of 1205.42 Da\n",
      "Seq03 : Has a molecular weight of 1474.52 Da\n",
      "Seq04 : Has a molecular weight of 809.88 Da\n"
     ]
    }
   ],
   "source": [
    "molecular_weight(seq_list)"
   ]
  },
  {
   "cell_type": "markdown",
   "metadata": {},
   "source": [
    "Excercise 2"
   ]
  },
  {
   "cell_type": "code",
   "execution_count": 27,
   "metadata": {},
   "outputs": [],
   "source": [
    "headers1 = ['Seq01']\n",
    "seqs1 = ['KMNPEDHEILKMPWY']\n",
    "fasta_filename = 'protein2.1.fasta'"
   ]
  },
  {
   "cell_type": "code",
   "execution_count": 28,
   "metadata": {},
   "outputs": [],
   "source": [
    "headers2 = ['Seq01', 'Seq02', 'Seq03', 'Seq04', 'Seq05','Seq06', 'Seq07', 'Seq08']\n",
    "seqs2 = ['KMNP', 'EDH', 'EILK','MPWY', 'NPE' , 'HEI', 'KLQ', 'WYA']\n",
    "fasta_filename = 'protein2.2.fasta'"
   ]
  },
  {
   "cell_type": "code",
   "execution_count": 29,
   "metadata": {},
   "outputs": [],
   "source": [
    "print_fasta('protein2.1.fasta', seqs1, headers1 )    #making a fasta file with a single sequence"
   ]
  },
  {
   "cell_type": "code",
   "execution_count": 30,
   "metadata": {},
   "outputs": [],
   "source": [
    "print_fasta('protein2.2.fasta', seqs2, headers2)     #making a fasta file with fragments of that sequence, plus other fragments "
   ]
  },
  {
   "cell_type": "code",
   "execution_count": 31,
   "metadata": {},
   "outputs": [],
   "source": [
    "sequences1 = SeqIO.parse('protein2.1.fasta', 'fasta')   #parsing the file\n",
    "seq_list1 = list(sequences1)                            #making a list of the records"
   ]
  },
  {
   "cell_type": "code",
   "execution_count": 32,
   "metadata": {},
   "outputs": [],
   "source": [
    "sequences2 = SeqIO.parse('protein2.2.fasta', 'fasta')   #parsing the file\n",
    "seq_list2 = list(sequences2)                            #making a list of the records"
   ]
  },
  {
   "cell_type": "code",
   "execution_count": 33,
   "metadata": {},
   "outputs": [],
   "source": [
    "def molecular_weight (seq_list):\n",
    "    for seq_record in seq_list:\n",
    "        molecularWeight = 0.0                         #molecular weight starts at zero\n",
    "        for seq in f'{seq_record.seq}':                  #weight of the sequence is added \n",
    "            molecularWeight += SeqUtils.molecular_weight(seq, \"protein\")  \n",
    "        print(f'{str(round(molecularWeight, 2))} ,')    #adjusted so we only get the weights"
   ]
  },
  {
   "cell_type": "code",
   "execution_count": 34,
   "metadata": {},
   "outputs": [
    {
     "name": "stdout",
     "output_type": "stream",
     "text": [
      "2183.45 ,\n"
     ]
    }
   ],
   "source": [
    "molecular_weight(seq_list1)"
   ]
  },
  {
   "cell_type": "code",
   "execution_count": 35,
   "metadata": {},
   "outputs": [
    {
     "name": "stdout",
     "output_type": "stream",
     "text": [
      "542.65 ,\n",
      "435.39 ,\n",
      "555.66 ,\n",
      "649.76 ,\n",
      "394.38 ,\n",
      "433.46 ,\n",
      "423.5 ,\n",
      "474.51 ,\n"
     ]
    }
   ],
   "source": [
    "molecular_weight(seq_list2)"
   ]
  },
  {
   "cell_type": "code",
   "execution_count": 36,
   "metadata": {},
   "outputs": [],
   "source": [
    "numbers = [542.65, 435.39, 555.66, 649.76, 394.38, 433.46, 423.5, 474.51]       #put the molecular weights into a list"
   ]
  },
  {
   "cell_type": "code",
   "execution_count": 37,
   "metadata": {},
   "outputs": [],
   "source": [
    "import itertools"
   ]
  },
  {
   "cell_type": "code",
   "execution_count": 38,
   "metadata": {},
   "outputs": [],
   "source": [
    "def fragment_combination(numbers_combinations):\n",
    "    list(itertools.combinations(numbers, 4))\n",
    "    makes_sum = ()                                                          #make an empty list\n",
    "    for n in range(1, len(numbers_combinations) + 1):                      \n",
    "        for combination in itertools.combinations(numbers_combinations, n): #make all the possible combinations of the numbers (not necessarely with all numbers at the time)\n",
    "            if sum(combination) == 2183.46:                                 #look for the combination wich makes a sum of the molecular weight of the original sequence\n",
    "                makes_sum = combination                                     #add this combination to the list\n",
    "    print(makes_sum)                                                        #print the list"
   ]
  },
  {
   "cell_type": "code",
   "execution_count": 39,
   "metadata": {},
   "outputs": [
    {
     "name": "stdout",
     "output_type": "stream",
     "text": [
      "(542.65, 435.39, 555.66, 649.76)\n"
     ]
    }
   ],
   "source": [
    "fragment_combination(numbers)"
   ]
  },
  {
   "cell_type": "markdown",
   "metadata": {},
   "source": [
    "Now doing the same for the given fasta files. "
   ]
  },
  {
   "cell_type": "code",
   "execution_count": 40,
   "metadata": {},
   "outputs": [],
   "source": [
    "sequences1 = SeqIO.parse('protein.fasta', 'fasta')\n",
    "seq_list1 = list(sequences1)"
   ]
  },
  {
   "cell_type": "code",
   "execution_count": 41,
   "metadata": {},
   "outputs": [],
   "source": [
    "sequences2 = SeqIO.parse('protein_fragments.fasta', 'fasta')\n",
    "seq_list2 = list(sequences2)"
   ]
  },
  {
   "cell_type": "code",
   "execution_count": 42,
   "metadata": {},
   "outputs": [
    {
     "name": "stdout",
     "output_type": "stream",
     "text": [
      "54946.96 ,\n"
     ]
    }
   ],
   "source": [
    "molecular_weight(seq_list1)"
   ]
  },
  {
   "cell_type": "code",
   "execution_count": 43,
   "metadata": {},
   "outputs": [
    {
     "name": "stdout",
     "output_type": "stream",
     "text": [
      "8872.93 ,\n",
      "1005.08 ,\n",
      "21317.98 ,\n",
      "1341.49 ,\n",
      "2203.43 ,\n",
      "33557.09 ,\n",
      "43359.87 ,\n",
      "10647.8 ,\n",
      "6683.37 ,\n",
      "4769.12 ,\n",
      "1627.78 ,\n",
      "10990.21 ,\n",
      "10359.39 ,\n",
      "7326.17 ,\n",
      "2671.91 ,\n",
      "1987.21 ,\n",
      "20559.95 ,\n",
      "7165.64 ,\n",
      "5533.34 ,\n",
      "4469.83 ,\n",
      "5339.26 ,\n",
      "4301.79 ,\n",
      "1073.22 ,\n",
      "7229.11 ,\n",
      "24919.87 ,\n",
      "15678.38 ,\n",
      "26218.38 ,\n",
      "4261.62 ,\n",
      "53582.37 ,\n",
      "7718.47 ,\n",
      "1963.22 ,\n",
      "6132.6 ,\n",
      "22489.24 ,\n",
      "9122.3 ,\n",
      "9105.29 ,\n",
      "2746.12 ,\n",
      "4850.57 ,\n",
      "1076.22 ,\n",
      "9898.05 ,\n",
      "34991.66 ,\n",
      "17088.82 ,\n",
      "5599.21 ,\n",
      "34789.79 ,\n",
      "5599.21 ,\n",
      "4050.38 ,\n",
      "6766.64 ,\n",
      "8925.56 ,\n",
      "2077.4 ,\n",
      "20391.72 ,\n",
      "654.84 ,\n",
      "8143.84 ,\n",
      "4009.33 ,\n",
      "17005.89 ,\n",
      "37956.44 ,\n",
      "1180.37 ,\n",
      "7222.7 ,\n",
      "5385.13 ,\n",
      "34312.16 ,\n",
      "7052.58 ,\n",
      "7265.83 ,\n",
      "1581.72 ,\n",
      "42527.39 ,\n",
      "5655.22 ,\n",
      "8061.91 ,\n",
      "23476.18 ,\n",
      "2714.78 ,\n",
      "20324.7 ,\n",
      "1091.28 ,\n",
      "38052.3 ,\n",
      "7639.26 ,\n",
      "7913.74 ,\n",
      "12460.76 ,\n",
      "849.93 ,\n",
      "8357.11 ,\n",
      "1016.11 ,\n",
      "5498.22 ,\n",
      "652.7 ,\n",
      "5968.23 ,\n",
      "6540.43 ,\n",
      "1266.46 ,\n",
      "9532.77 ,\n",
      "1103.27 ,\n",
      "11350.69 ,\n",
      "1383.57 ,\n",
      "847.91 ,\n",
      "2310.74 ,\n",
      "9347.65 ,\n",
      "1819.98 ,\n",
      "8307.33 ,\n",
      "3319.57 ,\n",
      "20831.33 ,\n",
      "29946.32 ,\n",
      "1107.21 ,\n",
      "17941.08 ,\n",
      "1858.01 ,\n",
      "21997.46 ,\n",
      "3462.78 ,\n",
      "15210.86 ,\n",
      "3114.49 ,\n",
      "30240.59 ,\n",
      "891.0 ,\n",
      "3745.03 ,\n",
      "6908.77 ,\n",
      "4950.58 ,\n",
      "1612.75 ,\n",
      "6669.62 ,\n",
      "2441.8 ,\n",
      "1106.2 ,\n",
      "7009.81 ,\n",
      "10183.49 ,\n",
      "1844.2 ,\n",
      "4566.08 ,\n",
      "20079.32 ,\n",
      "3960.35 ,\n",
      "9427.49 ,\n",
      "3408.91 ,\n",
      "15204.91 ,\n",
      "6228.84 ,\n",
      "611.58 ,\n",
      "8135.94 ,\n",
      "698.72 ,\n",
      "28976.34 ,\n",
      "16077.94 ,\n",
      "28970.13 ,\n",
      "34594.58 ,\n",
      "10938.83 ,\n"
     ]
    }
   ],
   "source": [
    "molecular_weight(seq_list2)"
   ]
  },
  {
   "cell_type": "code",
   "execution_count": 44,
   "metadata": {},
   "outputs": [
    {
     "name": "stdout",
     "output_type": "stream",
     "text": [
      "8872.93 ,\n",
      "1005.08 ,\n",
      "21317.98 ,\n",
      "1341.49 ,\n",
      "2203.43 ,\n",
      "33557.09 ,\n",
      "43359.87 ,\n",
      "10647.8 ,\n",
      "6683.37 ,\n",
      "4769.12 ,\n",
      "1627.78 ,\n",
      "10990.21 ,\n",
      "10359.39 ,\n",
      "7326.17 ,\n",
      "2671.91 ,\n",
      "1987.21 ,\n",
      "20559.95 ,\n",
      "7165.64 ,\n",
      "5533.34 ,\n",
      "4469.83 ,\n",
      "5339.26 ,\n",
      "4301.79 ,\n",
      "1073.22 ,\n",
      "7229.11 ,\n",
      "24919.87 ,\n",
      "15678.38 ,\n",
      "26218.38 ,\n",
      "4261.62 ,\n",
      "53582.37 ,\n",
      "7718.47 ,\n",
      "1963.22 ,\n",
      "6132.6 ,\n",
      "22489.24 ,\n",
      "9122.3 ,\n",
      "9105.29 ,\n",
      "2746.12 ,\n",
      "4850.57 ,\n",
      "1076.22 ,\n",
      "9898.05 ,\n",
      "34991.66 ,\n",
      "17088.82 ,\n",
      "5599.21 ,\n",
      "34789.79 ,\n",
      "5599.21 ,\n",
      "4050.38 ,\n",
      "6766.64 ,\n",
      "8925.56 ,\n",
      "2077.4 ,\n",
      "20391.72 ,\n",
      "654.84 ,\n",
      "8143.84 ,\n",
      "4009.33 ,\n",
      "17005.89 ,\n",
      "37956.44 ,\n",
      "1180.37 ,\n",
      "7222.7 ,\n",
      "5385.13 ,\n",
      "34312.16 ,\n",
      "7052.58 ,\n",
      "7265.83 ,\n",
      "1581.72 ,\n",
      "42527.39 ,\n",
      "5655.22 ,\n",
      "8061.91 ,\n",
      "23476.18 ,\n",
      "2714.78 ,\n",
      "20324.7 ,\n",
      "1091.28 ,\n",
      "38052.3 ,\n",
      "7639.26 ,\n",
      "7913.74 ,\n",
      "12460.76 ,\n",
      "849.93 ,\n",
      "8357.11 ,\n",
      "1016.11 ,\n",
      "5498.22 ,\n",
      "652.7 ,\n",
      "5968.23 ,\n",
      "6540.43 ,\n",
      "1266.46 ,\n",
      "9532.77 ,\n",
      "1103.27 ,\n",
      "11350.69 ,\n",
      "1383.57 ,\n",
      "847.91 ,\n",
      "2310.74 ,\n",
      "9347.65 ,\n",
      "1819.98 ,\n",
      "8307.33 ,\n",
      "3319.57 ,\n",
      "20831.33 ,\n",
      "29946.32 ,\n",
      "1107.21 ,\n",
      "17941.08 ,\n",
      "1858.01 ,\n",
      "21997.46 ,\n",
      "3462.78 ,\n",
      "15210.86 ,\n",
      "3114.49 ,\n",
      "30240.59 ,\n",
      "891.0 ,\n",
      "3745.03 ,\n",
      "6908.77 ,\n",
      "4950.58 ,\n",
      "1612.75 ,\n",
      "6669.62 ,\n",
      "2441.8 ,\n",
      "1106.2 ,\n",
      "7009.81 ,\n",
      "10183.49 ,\n",
      "1844.2 ,\n",
      "4566.08 ,\n",
      "20079.32 ,\n",
      "3960.35 ,\n",
      "9427.49 ,\n",
      "3408.91 ,\n",
      "15204.91 ,\n",
      "6228.84 ,\n",
      "611.58 ,\n",
      "8135.94 ,\n",
      "698.72 ,\n",
      "28976.34 ,\n",
      "16077.94 ,\n",
      "28970.13 ,\n",
      "34594.58 ,\n",
      "10938.83 ,\n"
     ]
    }
   ],
   "source": [
    "molecular_weight(seq_list2)"
   ]
  },
  {
   "cell_type": "code",
   "execution_count": 45,
   "metadata": {},
   "outputs": [],
   "source": [
    "numbers = [8872.93 ,\n",
    "1005.08 ,\n",
    "21317.98 ,\n",
    "1341.49 ,\n",
    "2203.43 ,\n",
    "33557.09 ,\n",
    "43359.87 ,\n",
    "10647.8 ,\n",
    "6683.37 ,\n",
    "4769.12 ,\n",
    "1627.78 ,\n",
    "10990.21 ,\n",
    "10359.39 ,\n",
    "7326.17 ,\n",
    "2671.91 ,\n",
    "1987.21 ,\n",
    "20559.95 ,\n",
    "7165.64 ,\n",
    "5533.34 ,\n",
    "4469.83 ,\n",
    "5339.26 ,\n",
    "4301.79 ,\n",
    "1073.22 ,\n",
    "7229.11 ,\n",
    "24919.87 ,\n",
    "15678.38 ,\n",
    "26218.38 ,\n",
    "4261.62 ,\n",
    "53582.37 ,\n",
    "7718.47 ,\n",
    "1963.22 ,\n",
    "6132.6 ,\n",
    "22489.24 ,\n",
    "9122.3 ,\n",
    "9105.29 ,\n",
    "2746.12 ,\n",
    "4850.57 ,\n",
    "1076.22 ,\n",
    "9898.05 ,\n",
    "34991.66 ,\n",
    "17088.82 ,\n",
    "5599.21 ,\n",
    "34789.79 ,\n",
    "5599.21 ,\n",
    "4050.38 ,\n",
    "6766.64 ,\n",
    "8925.56 ,\n",
    "2077.4 ,\n",
    "20391.72 ,\n",
    "654.84 ,\n",
    "8143.84 ,\n",
    "4009.33 ,\n",
    "17005.89 ,\n",
    "37956.44 ,\n",
    "1180.37 ,\n",
    "7222.7 ,\n",
    "5385.13 ,\n",
    "34312.16 ,\n",
    "7052.58 ,\n",
    "7265.83 ,\n",
    "1581.72 ,\n",
    "42527.39 ,\n",
    "5655.22 ,\n",
    "8061.91 ,\n",
    "23476.18 ,\n",
    "2714.78 ,\n",
    "20324.7 ,\n",
    "1091.28 ,\n",
    "38052.3 ,\n",
    "7639.26 ,\n",
    "7913.74 ,\n",
    "12460.76 ,\n",
    "849.93 ,\n",
    "8357.11 ,\n",
    "1016.11 ,\n",
    "5498.22 ,\n",
    "652.7 ,\n",
    "5968.23 ,\n",
    "6540.43 ,\n",
    "1266.46 ,\n",
    "9532.77 ,\n",
    "1103.27 ,\n",
    "11350.69 ,\n",
    "1383.57 ,\n",
    "847.91 ,\n",
    "2310.74 ,\n",
    "9347.65 ,\n",
    "1819.98 ,\n",
    "8307.33 ,\n",
    "3319.57 ,\n",
    "20831.33 ,\n",
    "29946.32 ,\n",
    "1107.21 ,\n",
    "17941.08 ,\n",
    "1858.01 ,\n",
    "21997.46 ,\n",
    "3462.78 ,\n",
    "15210.86 ,\n",
    "3114.49 ,\n",
    "30240.59 ,\n",
    "891.0 ,\n",
    "3745.03 ,\n",
    "6908.77 ,\n",
    "4950.58 ,\n",
    "1612.75 ,\n",
    "6669.62 ,\n",
    "2441.8 ,\n",
    "1106.2 ,\n",
    "7009.81 ,\n",
    "10183.49 ,\n",
    "1844.2 ,\n",
    "4566.08 ,\n",
    "20079.32 ,\n",
    "3960.35 ,\n",
    "9427.49 ,\n",
    "3408.91 ,\n",
    "15204.91 ,\n",
    "6228.84 ,\n",
    "611.58 ,\n",
    "8135.94 ,\n",
    "698.72 ,\n",
    "28976.34 ,\n",
    "16077.94 ,\n",
    "28970.13 ,\n",
    "34594.58 ,\n",
    "10938.83]"
   ]
  },
  {
   "cell_type": "code",
   "execution_count": 48,
   "metadata": {},
   "outputs": [],
   "source": [
    "def fragment_combination(numbers_combinations):\n",
    "    list(itertools.combinations(numbers, 4))\n",
    "    makes_sum = ()                                                          #make an empty list\n",
    "    for n in range(1, len(numbers_combinations) + 1):                      \n",
    "        for combination in itertools.combinations(numbers_combinations, n): #make all the possible combinations of the numbers (not necessarely with all numbers at the time)\n",
    "            if sum(combination) == 54946.96:                                 #look for the combination wich makes a sum of the molecular weight of the original sequence\n",
    "                makes_sum = combination                                     #add this combination to the list\n",
    "    print(makes_sum)                                                        #print the list"
   ]
  },
  {
   "cell_type": "code",
   "execution_count": null,
   "metadata": {},
   "outputs": [],
   "source": [
    "fragment_combination(numbers)"
   ]
  },
  {
   "cell_type": "code",
   "execution_count": 49,
   "metadata": {},
   "outputs": [
    {
     "ename": "NameError",
     "evalue": "name 'makes_sum' is not defined",
     "output_type": "error",
     "traceback": [
      "\u001b[0;31m---------------------------------------------------------------------------\u001b[0m",
      "\u001b[0;31mNameError\u001b[0m                                 Traceback (most recent call last)",
      "\u001b[0;32m<ipython-input-49-75ecc38d921e>\u001b[0m in \u001b[0;36m<module>\u001b[0;34m\u001b[0m\n\u001b[0;32m----> 1\u001b[0;31m \u001b[0mprint\u001b[0m\u001b[0;34m(\u001b[0m\u001b[0mmakes_sum\u001b[0m\u001b[0;34m)\u001b[0m\u001b[0;34m\u001b[0m\u001b[0;34m\u001b[0m\u001b[0m\n\u001b[0m",
      "\u001b[0;31mNameError\u001b[0m: name 'makes_sum' is not defined"
     ]
    }
   ],
   "source": [
    "print(makes_sum)"
   ]
  },
  {
   "cell_type": "markdown",
   "metadata": {},
   "source": [
    "Excercise 3"
   ]
  },
  {
   "cell_type": "markdown",
   "metadata": {},
   "source": [
    "na de vorige oefening kennen we de moleculaire gewichten waarvan de som overeenkomt met het gewicht van de totale proteinsequentie. Deze fragmenten moeten we identificeren. Daarna alle combinatie maken en kijken of er een combinatie overeenkomt met de proteinsequentie. "
   ]
  },
  {
   "cell_type": "code",
   "execution_count": 29,
   "metadata": {},
   "outputs": [],
   "source": [
    "def molecular_weight (seq_list):\n",
    "    for seq_record in seq_list:\n",
    "        molecularWeight = 0.0\n",
    "        for seq in f'{seq_record.seq}':\n",
    "            molecularWeight += SeqUtils.molecular_weight(seq, \"protein\")\n",
    "        print(f'{seq_record.id} : {seq_record.seq} : \\nHas a molecular weight of {str(round(molecularWeight, 2))} Da') #rewrithe the function of molecular weight so that we can see the sequence"
   ]
  },
  {
   "cell_type": "code",
   "execution_count": 30,
   "metadata": {},
   "outputs": [
    {
     "name": "stdout",
     "output_type": "stream",
     "text": [
      "Seq01 : KMNP : \n",
      "Has a molecular weight of 542.65 Da\n",
      "Seq02 : EDH : \n",
      "Has a molecular weight of 435.39 Da\n",
      "Seq03 : EILK : \n",
      "Has a molecular weight of 555.66 Da\n",
      "Seq04 : MPWY : \n",
      "Has a molecular weight of 649.76 Da\n",
      "Seq05 : NPE : \n",
      "Has a molecular weight of 394.38 Da\n",
      "Seq06 : HEI : \n",
      "Has a molecular weight of 433.46 Da\n",
      "Seq07 : KLQ : \n",
      "Has a molecular weight of 423.5 Da\n",
      "Seq08 : WYA : \n",
      "Has a molecular weight of 474.51 Da\n"
     ]
    }
   ],
   "source": [
    "molecular_weight(seq_list2)"
   ]
  },
  {
   "cell_type": "markdown",
   "metadata": {},
   "source": [
    "je kan nu zien welk gewicht elk fragment heeft"
   ]
  },
  {
   "cell_type": "code",
   "execution_count": 19,
   "metadata": {},
   "outputs": [],
   "source": [
    "right_frag = [\"KMNP\", \"EDH\", \"EILK\", \"MPWY\"]   # you knew the right weights from the previous excersice. Now you see the corresponding sequence. Put this sequences into a list.  "
   ]
  },
  {
   "cell_type": "code",
   "execution_count": 20,
   "metadata": {},
   "outputs": [
    {
     "ename": "NameError",
     "evalue": "name 'itertools' is not defined",
     "output_type": "error",
     "traceback": [
      "\u001b[0;31m---------------------------------------------------------------------------\u001b[0m",
      "\u001b[0;31mNameError\u001b[0m                                 Traceback (most recent call last)",
      "\u001b[0;32m<ipython-input-20-4b963ac1b221>\u001b[0m in \u001b[0;36m<module>\u001b[0;34m\u001b[0m\n\u001b[1;32m      1\u001b[0m \u001b[0mpermutations\u001b[0m \u001b[0;34m=\u001b[0m\u001b[0;34m[\u001b[0m\u001b[0;34m]\u001b[0m                               \u001b[0;31m#make an empty list where the permutations will be added\u001b[0m\u001b[0;34m\u001b[0m\u001b[0;34m\u001b[0m\u001b[0m\n\u001b[1;32m      2\u001b[0m \u001b[0;32mfor\u001b[0m \u001b[0mi\u001b[0m \u001b[0;32min\u001b[0m \u001b[0mrange\u001b[0m\u001b[0;34m(\u001b[0m\u001b[0mlen\u001b[0m\u001b[0;34m(\u001b[0m\u001b[0mright_frag\u001b[0m\u001b[0;34m)\u001b[0m\u001b[0;34m)\u001b[0m\u001b[0;34m:\u001b[0m\u001b[0;34m\u001b[0m\u001b[0;34m\u001b[0m\u001b[0m\n\u001b[0;32m----> 3\u001b[0;31m     \u001b[0;32mfor\u001b[0m \u001b[0mj\u001b[0m \u001b[0;32min\u001b[0m \u001b[0mitertools\u001b[0m\u001b[0;34m.\u001b[0m\u001b[0mpermutations\u001b[0m\u001b[0;34m(\u001b[0m\u001b[0mright_frag\u001b[0m\u001b[0;34m)\u001b[0m\u001b[0;34m:\u001b[0m   \u001b[0;31m#Use permutation so you get different combinations of all the fragments\u001b[0m\u001b[0;34m\u001b[0m\u001b[0;34m\u001b[0m\u001b[0m\n\u001b[0m\u001b[1;32m      4\u001b[0m         \u001b[0mpermutations\u001b[0m\u001b[0;34m.\u001b[0m\u001b[0mappend\u001b[0m\u001b[0;34m(\u001b[0m\u001b[0mj\u001b[0m\u001b[0;34m)\u001b[0m\u001b[0;34m\u001b[0m\u001b[0;34m\u001b[0m\u001b[0m\n",
      "\u001b[0;31mNameError\u001b[0m: name 'itertools' is not defined"
     ]
    }
   ],
   "source": [
    "permutations =[]                               #make an empty list where the permutations will be added\n",
    "for i in range(len(right_frag)):\n",
    "    for j in itertools.permutations(right_frag):   #Use permutation so you get different combinations of all the fragments \n",
    "        permutations.append(j)"
   ]
  },
  {
   "cell_type": "code",
   "execution_count": 5,
   "metadata": {},
   "outputs": [
    {
     "data": {
      "text/plain": [
       "[('KMNP', 'EDH', 'EILK', 'MPWY'),\n",
       " ('KMNP', 'EDH', 'MPWY', 'EILK'),\n",
       " ('KMNP', 'EILK', 'EDH', 'MPWY'),\n",
       " ('KMNP', 'EILK', 'MPWY', 'EDH'),\n",
       " ('KMNP', 'MPWY', 'EDH', 'EILK'),\n",
       " ('KMNP', 'MPWY', 'EILK', 'EDH'),\n",
       " ('EDH', 'KMNP', 'EILK', 'MPWY'),\n",
       " ('EDH', 'KMNP', 'MPWY', 'EILK'),\n",
       " ('EDH', 'EILK', 'KMNP', 'MPWY'),\n",
       " ('EDH', 'EILK', 'MPWY', 'KMNP'),\n",
       " ('EDH', 'MPWY', 'KMNP', 'EILK'),\n",
       " ('EDH', 'MPWY', 'EILK', 'KMNP'),\n",
       " ('EILK', 'KMNP', 'EDH', 'MPWY'),\n",
       " ('EILK', 'KMNP', 'MPWY', 'EDH'),\n",
       " ('EILK', 'EDH', 'KMNP', 'MPWY'),\n",
       " ('EILK', 'EDH', 'MPWY', 'KMNP'),\n",
       " ('EILK', 'MPWY', 'KMNP', 'EDH'),\n",
       " ('EILK', 'MPWY', 'EDH', 'KMNP'),\n",
       " ('MPWY', 'KMNP', 'EDH', 'EILK'),\n",
       " ('MPWY', 'KMNP', 'EILK', 'EDH'),\n",
       " ('MPWY', 'EDH', 'KMNP', 'EILK'),\n",
       " ('MPWY', 'EDH', 'EILK', 'KMNP'),\n",
       " ('MPWY', 'EILK', 'KMNP', 'EDH'),\n",
       " ('MPWY', 'EILK', 'EDH', 'KMNP'),\n",
       " ('KMNP', 'EDH', 'EILK', 'MPWY'),\n",
       " ('KMNP', 'EDH', 'MPWY', 'EILK'),\n",
       " ('KMNP', 'EILK', 'EDH', 'MPWY'),\n",
       " ('KMNP', 'EILK', 'MPWY', 'EDH'),\n",
       " ('KMNP', 'MPWY', 'EDH', 'EILK'),\n",
       " ('KMNP', 'MPWY', 'EILK', 'EDH'),\n",
       " ('EDH', 'KMNP', 'EILK', 'MPWY'),\n",
       " ('EDH', 'KMNP', 'MPWY', 'EILK'),\n",
       " ('EDH', 'EILK', 'KMNP', 'MPWY'),\n",
       " ('EDH', 'EILK', 'MPWY', 'KMNP'),\n",
       " ('EDH', 'MPWY', 'KMNP', 'EILK'),\n",
       " ('EDH', 'MPWY', 'EILK', 'KMNP'),\n",
       " ('EILK', 'KMNP', 'EDH', 'MPWY'),\n",
       " ('EILK', 'KMNP', 'MPWY', 'EDH'),\n",
       " ('EILK', 'EDH', 'KMNP', 'MPWY'),\n",
       " ('EILK', 'EDH', 'MPWY', 'KMNP'),\n",
       " ('EILK', 'MPWY', 'KMNP', 'EDH'),\n",
       " ('EILK', 'MPWY', 'EDH', 'KMNP'),\n",
       " ('MPWY', 'KMNP', 'EDH', 'EILK'),\n",
       " ('MPWY', 'KMNP', 'EILK', 'EDH'),\n",
       " ('MPWY', 'EDH', 'KMNP', 'EILK'),\n",
       " ('MPWY', 'EDH', 'EILK', 'KMNP'),\n",
       " ('MPWY', 'EILK', 'KMNP', 'EDH'),\n",
       " ('MPWY', 'EILK', 'EDH', 'KMNP'),\n",
       " ('KMNP', 'EDH', 'EILK', 'MPWY'),\n",
       " ('KMNP', 'EDH', 'MPWY', 'EILK'),\n",
       " ('KMNP', 'EILK', 'EDH', 'MPWY'),\n",
       " ('KMNP', 'EILK', 'MPWY', 'EDH'),\n",
       " ('KMNP', 'MPWY', 'EDH', 'EILK'),\n",
       " ('KMNP', 'MPWY', 'EILK', 'EDH'),\n",
       " ('EDH', 'KMNP', 'EILK', 'MPWY'),\n",
       " ('EDH', 'KMNP', 'MPWY', 'EILK'),\n",
       " ('EDH', 'EILK', 'KMNP', 'MPWY'),\n",
       " ('EDH', 'EILK', 'MPWY', 'KMNP'),\n",
       " ('EDH', 'MPWY', 'KMNP', 'EILK'),\n",
       " ('EDH', 'MPWY', 'EILK', 'KMNP'),\n",
       " ('EILK', 'KMNP', 'EDH', 'MPWY'),\n",
       " ('EILK', 'KMNP', 'MPWY', 'EDH'),\n",
       " ('EILK', 'EDH', 'KMNP', 'MPWY'),\n",
       " ('EILK', 'EDH', 'MPWY', 'KMNP'),\n",
       " ('EILK', 'MPWY', 'KMNP', 'EDH'),\n",
       " ('EILK', 'MPWY', 'EDH', 'KMNP'),\n",
       " ('MPWY', 'KMNP', 'EDH', 'EILK'),\n",
       " ('MPWY', 'KMNP', 'EILK', 'EDH'),\n",
       " ('MPWY', 'EDH', 'KMNP', 'EILK'),\n",
       " ('MPWY', 'EDH', 'EILK', 'KMNP'),\n",
       " ('MPWY', 'EILK', 'KMNP', 'EDH'),\n",
       " ('MPWY', 'EILK', 'EDH', 'KMNP'),\n",
       " ('KMNP', 'EDH', 'EILK', 'MPWY'),\n",
       " ('KMNP', 'EDH', 'MPWY', 'EILK'),\n",
       " ('KMNP', 'EILK', 'EDH', 'MPWY'),\n",
       " ('KMNP', 'EILK', 'MPWY', 'EDH'),\n",
       " ('KMNP', 'MPWY', 'EDH', 'EILK'),\n",
       " ('KMNP', 'MPWY', 'EILK', 'EDH'),\n",
       " ('EDH', 'KMNP', 'EILK', 'MPWY'),\n",
       " ('EDH', 'KMNP', 'MPWY', 'EILK'),\n",
       " ('EDH', 'EILK', 'KMNP', 'MPWY'),\n",
       " ('EDH', 'EILK', 'MPWY', 'KMNP'),\n",
       " ('EDH', 'MPWY', 'KMNP', 'EILK'),\n",
       " ('EDH', 'MPWY', 'EILK', 'KMNP'),\n",
       " ('EILK', 'KMNP', 'EDH', 'MPWY'),\n",
       " ('EILK', 'KMNP', 'MPWY', 'EDH'),\n",
       " ('EILK', 'EDH', 'KMNP', 'MPWY'),\n",
       " ('EILK', 'EDH', 'MPWY', 'KMNP'),\n",
       " ('EILK', 'MPWY', 'KMNP', 'EDH'),\n",
       " ('EILK', 'MPWY', 'EDH', 'KMNP'),\n",
       " ('MPWY', 'KMNP', 'EDH', 'EILK'),\n",
       " ('MPWY', 'KMNP', 'EILK', 'EDH'),\n",
       " ('MPWY', 'EDH', 'KMNP', 'EILK'),\n",
       " ('MPWY', 'EDH', 'EILK', 'KMNP'),\n",
       " ('MPWY', 'EILK', 'KMNP', 'EDH'),\n",
       " ('MPWY', 'EILK', 'EDH', 'KMNP')]"
      ]
     },
     "execution_count": 5,
     "metadata": {},
     "output_type": "execute_result"
    }
   ],
   "source": [
    "permutations"
   ]
  },
  {
   "cell_type": "code",
   "execution_count": 6,
   "metadata": {},
   "outputs": [
    {
     "data": {
      "text/plain": [
       "\"['KMNPEDHEILKMPWY', 'KMNPEDHMPWYEILK', 'KMNPEILKEDHMPWY', 'KMNPEILKMPWYEDH', 'KMNPMPWYEDHEILK', 'KMNPMPWYEILKEDH', 'EDHKMNPEILKMPWY', 'EDHKMNPMPWYEILK', 'EDHEILKKMNPMPWY', 'EDHEILKMPWYKMNP', 'EDHMPWYKMNPEILK', 'EDHMPWYEILKKMNP', 'EILKKMNPEDHMPWY', 'EILKKMNPMPWYEDH', 'EILKEDHKMNPMPWY', 'EILKEDHMPWYKMNP', 'EILKMPWYKMNPEDH', 'EILKMPWYEDHKMNP', 'MPWYKMNPEDHEILK', 'MPWYKMNPEILKEDH', 'MPWYEDHKMNPEILK', 'MPWYEDHEILKKMNP', 'MPWYEILKKMNPEDH', 'MPWYEILKEDHKMNP', 'KMNPEDHEILKMPWY', 'KMNPEDHMPWYEILK', 'KMNPEILKEDHMPWY', 'KMNPEILKMPWYEDH', 'KMNPMPWYEDHEILK', 'KMNPMPWYEILKEDH', 'EDHKMNPEILKMPWY', 'EDHKMNPMPWYEILK', 'EDHEILKKMNPMPWY', 'EDHEILKMPWYKMNP', 'EDHMPWYKMNPEILK', 'EDHMPWYEILKKMNP', 'EILKKMNPEDHMPWY', 'EILKKMNPMPWYEDH', 'EILKEDHKMNPMPWY', 'EILKEDHMPWYKMNP', 'EILKMPWYKMNPEDH', 'EILKMPWYEDHKMNP', 'MPWYKMNPEDHEILK', 'MPWYKMNPEILKEDH', 'MPWYEDHKMNPEILK', 'MPWYEDHEILKKMNP', 'MPWYEILKKMNPEDH', 'MPWYEILKEDHKMNP', 'KMNPEDHEILKMPWY', 'KMNPEDHMPWYEILK', 'KMNPEILKEDHMPWY', 'KMNPEILKMPWYEDH', 'KMNPMPWYEDHEILK', 'KMNPMPWYEILKEDH', 'EDHKMNPEILKMPWY', 'EDHKMNPMPWYEILK', 'EDHEILKKMNPMPWY', 'EDHEILKMPWYKMNP', 'EDHMPWYKMNPEILK', 'EDHMPWYEILKKMNP', 'EILKKMNPEDHMPWY', 'EILKKMNPMPWYEDH', 'EILKEDHKMNPMPWY', 'EILKEDHMPWYKMNP', 'EILKMPWYKMNPEDH', 'EILKMPWYEDHKMNP', 'MPWYKMNPEDHEILK', 'MPWYKMNPEILKEDH', 'MPWYEDHKMNPEILK', 'MPWYEDHEILKKMNP', 'MPWYEILKKMNPEDH', 'MPWYEILKEDHKMNP', 'KMNPEDHEILKMPWY', 'KMNPEDHMPWYEILK', 'KMNPEILKEDHMPWY', 'KMNPEILKMPWYEDH', 'KMNPMPWYEDHEILK', 'KMNPMPWYEILKEDH', 'EDHKMNPEILKMPWY', 'EDHKMNPMPWYEILK', 'EDHEILKKMNPMPWY', 'EDHEILKMPWYKMNP', 'EDHMPWYKMNPEILK', 'EDHMPWYEILKKMNP', 'EILKKMNPEDHMPWY', 'EILKKMNPMPWYEDH', 'EILKEDHKMNPMPWY', 'EILKEDHMPWYKMNP', 'EILKMPWYKMNPEDH', 'EILKMPWYEDHKMNP', 'MPWYKMNPEDHEILK', 'MPWYKMNPEILKEDH', 'MPWYEDHKMNPEILK', 'MPWYEDHEILKKMNP', 'MPWYEILKKMNPEDH', 'MPWYEILKEDHKMNP']\""
      ]
     },
     "execution_count": 6,
     "metadata": {},
     "output_type": "execute_result"
    }
   ],
   "source": [
    "res = [''.join(i) for i in permutations]   #maken de list of tuples een list of strings zoadat we mooi de sequenties kunnen vergelijken met de orginele\n",
    "str(res) "
   ]
  },
  {
   "cell_type": "code",
   "execution_count": 10,
   "metadata": {},
   "outputs": [],
   "source": [
    "def print_fasta(file_name, sequence_list):\n",
    "    with open(file_name, 'w') as file:\n",
    "        for i in range(len(sequence_list)):\n",
    "            print(sequence_list[i], file=file)"
   ]
  },
  {
   "cell_type": "code",
   "execution_count": 61,
   "metadata": {},
   "outputs": [],
   "source": [
    "print_fasta('fragments', res)           #put the perutations list into a file"
   ]
  },
  {
   "cell_type": "code",
   "execution_count": 12,
   "metadata": {},
   "outputs": [],
   "source": [
    "org = ['KMNPEDHEILKMPWY']             "
   ]
  },
  {
   "cell_type": "code",
   "execution_count": 13,
   "metadata": {},
   "outputs": [],
   "source": [
    "print_fasta(\"orgineel.txt\", org)       #put the original sequence into a file"
   ]
  },
  {
   "cell_type": "code",
   "execution_count": 65,
   "metadata": {},
   "outputs": [],
   "source": [
    "with open('orgineel.txt', 'r') as file1:                #reading both files\n",
    "    with open('fragments', 'r') as file2:\n",
    "        same = set(file1).intersection(file2)\n",
    "\n",
    "same.discard('\\n')                                #exclude blank lines\n",
    "\n",
    "with open('some_output_file.txt', 'w') as file_out:\n",
    "    for line in same:\n",
    "        file_out.write(line)                       #writes the common line"
   ]
  },
  {
   "cell_type": "markdown",
   "metadata": {},
   "source": [
    "dus als hier een uitkomst is zien we dat ze deze sequentie gemeenschappelijk hebben en dus overlappen"
   ]
  },
  {
   "cell_type": "markdown",
   "metadata": {},
   "source": [
    "#Excercise 4"
   ]
  }
 ],
 "metadata": {
  "kernelspec": {
   "display_name": "Python 3",
   "language": "python",
   "name": "python3"
  },
  "language_info": {
   "codemirror_mode": {
    "name": "ipython",
    "version": 3
   },
   "file_extension": ".py",
   "mimetype": "text/x-python",
   "name": "python",
   "nbconvert_exporter": "python",
   "pygments_lexer": "ipython3",
   "version": "3.8.3"
  }
 },
 "nbformat": 4,
 "nbformat_minor": 4
}
