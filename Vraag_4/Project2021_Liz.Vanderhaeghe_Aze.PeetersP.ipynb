{
 "cells": [
  {
   "cell_type": "markdown",
   "metadata": {},
   "source": [
    "# Project Computational Biology, January 2021"
   ]
  },
  {
   "cell_type": "markdown",
   "metadata": {},
   "source": [
    "##### `Liz Vanderhaeghe en Aze Peeters`"
   ]
  },
  {
   "cell_type": "markdown",
   "metadata": {},
   "source": [
    "## Question 1"
   ]
  },
  {
   "cell_type": "markdown",
   "metadata": {},
   "source": [
    "A FASTA file contains a number of protein sequences. Write a Python script that, given the name of the FASTA file, writes the sequence identifier and the molecular weight for each sequence in the file.\n",
    "Note: do not take the ends of the molecule into account.\n",
    "* Example: for the sequence “DHPFWKQTACKHV” the molecular weight would be 1578.8."
   ]
  },
  {
   "cell_type": "code",
   "execution_count": 80,
   "metadata": {},
   "outputs": [],
   "source": [
    "# At this step you import modules. Modules in Python are like \"Apps\" that enable you to perform some complex tasks without having to write thousands of line of code\n",
    "from Bio import SeqIO\n",
    "from Bio.SeqRecord import SeqRecord\n",
    "from Bio.SeqUtils.ProtParam import ProteinAnalysis"
   ]
  },
  {
   "cell_type": "code",
   "execution_count": 100,
   "metadata": {},
   "outputs": [
    {
     "name": "stdout",
     "output_type": "stream",
     "text": [
      "SequenceID = seq_compl\n",
      "Molecular Weight = 3806.370999999999 Da\n",
      "New Description = seq_compl complete sequence\n",
      "Sequence = IEEATHMTPCYELHGLRWVQIQDYAINVMQCL\n",
      " \n"
     ]
    }
   ],
   "source": [
    "# We here define the name of the input file (= file that we will treat)\n",
    "file_in = 'short_protein.fasta'\n",
    "\n",
    "# We here open the output file (to be able to write data inot it later in this script)\n",
    "with open(file_out, 'w') as f_out:\n",
    "\n",
    "    # We here open the input file and for each protein sequence in the input file, we will perform the tasks in the belows \"indentation block\"\n",
    "    for seq_record in SeqIO.parse(open(file_in, mode='r'), 'fasta'):\n",
    "\n",
    "        # Put the sequence in a \"Protein Analysis\" function that will enable us to analyse that protein sequence afterwards\n",
    "        X = ProteinAnalysis(str(seq_record.seq))\n",
    "\n",
    "        # Compute Molecular weight for the protein sequence\n",
    "        seq_record.molecular_weight = X.molecular_weight()\n",
    "\n",
    "        # Print (= show on screen) some information found about that\n",
    "        print('SequenceID = '  + seq_record.id)\n",
    "        print('Molecular Weight = ' + str(seq_record.molecular_weight) + ' Da')\n",
    "        print('New Description = ' + seq_record.description)\n",
    "        print('Sequence = ' + seq_record.seq)\n",
    "\n",
    "        # Print a line with a blank value to print a space between the protein sequences\n",
    "        print(' ')"
   ]
  },
  {
   "cell_type": "code",
   "execution_count": 82,
   "metadata": {},
   "outputs": [
    {
     "name": "stdout",
     "output_type": "stream",
     "text": [
      "for the sequence seq_compl ,the molecular weight would be 3806.370999999999\n"
     ]
    }
   ],
   "source": [
    "print('for the sequence ' + seq_record.id, ',the molecular weight would be ' + str(seq_record.molecular_weight))"
   ]
  },
  {
   "cell_type": "markdown",
   "metadata": {},
   "source": [
    "## Question 2"
   ]
  },
  {
   "cell_type": "markdown",
   "metadata": {},
   "source": [
    "A FASTA file contains a single protein sequence. A second FASTA file contains sequences that are fragments of the sequence in the first file. Compute the molecular weight of each of the sequences, and using those, determine whether there is a combination of fragments that may cover the complete protein sequence, without those fragments overlapping\n",
    "* Example: suppose the sequence has a molecular weight of 1623.5, than fragments with weights 326.2, 487.4, and 819.9 might cover it without overlap."
   ]
  },
  {
   "cell_type": "code",
   "execution_count": 101,
   "metadata": {},
   "outputs": [],
   "source": [
    "############################\n",
    "# compute the molecular weight of the fragments\n",
    "##########\n",
    "\n",
    "fragments = SeqIO.parse('short_protein_fragments.fasta', 'fasta')   #parsing the file\n",
    "frag_list = list(fragments)   "
   ]
  },
  {
   "cell_type": "code",
   "execution_count": 102,
   "metadata": {},
   "outputs": [],
   "source": [
    "def molecular_weight (frag_list):\n",
    "    for seq_record in frag_list:\n",
    "        molecularWeight = 0.0                           #molecular weight starts at zero\n",
    "        for seq in f'{seq_record.seq}':                  #weight of the sequence is added \n",
    "            molecularWeight += SeqUtils.molecular_weight(seq, \"protein\")  \n",
    "        print(f'{seq_record.id} : Has a molecular weight of {str(round(molecularWeight, 2))} Da') "
   ]
  },
  {
   "cell_type": "code",
   "execution_count": 103,
   "metadata": {},
   "outputs": [
    {
     "name": "stdout",
     "output_type": "stream",
     "text": [
      "seq_0000 : Has a molecular weight of 3611.86 Da\n",
      "seq_0001 : Has a molecular weight of 2269.63 Da\n",
      "seq_0002 : Has a molecular weight of 469.53 Da\n",
      "seq_0003 : Has a molecular weight of 556.56 Da\n",
      "seq_0004 : Has a molecular weight of 1198.41 Da\n",
      "seq_0005 : Has a molecular weight of 2609.88 Da\n",
      "seq_0006 : Has a molecular weight of 547.69 Da\n",
      "seq_0007 : Has a molecular weight of 1976.23 Da\n",
      "seq_0008 : Has a molecular weight of 2306.48 Da\n",
      "seq_0009 : Has a molecular weight of 938.01 Da\n",
      "seq_0010 : Has a molecular weight of 1613.87 Da\n",
      "seq_0011 : Has a molecular weight of 789.87 Da\n",
      "seq_0012 : Has a molecular weight of 737.75 Da\n",
      "seq_0013 : Has a molecular weight of 2498.71 Da\n",
      "seq_0014 : Has a molecular weight of 2064.25 Da\n",
      "seq_0015 : Has a molecular weight of 1184.39 Da\n",
      "seq_0016 : Has a molecular weight of 1671.87 Da\n"
     ]
    }
   ],
   "source": [
    "molecular_weight(frag_list)"
   ]
  },
  {
   "cell_type": "code",
   "execution_count": 104,
   "metadata": {},
   "outputs": [],
   "source": [
    "# At this step you import modules. Modules in Python are like \"Apps\" that enable you to perform some complex tasks without having to write thousands of line of code\n",
    "from Bio import SeqIO\n",
    "from Bio import SeqUtils\n",
    "from Bio.SeqUtils.ProtParam import ProteinAnalysis"
   ]
  },
  {
   "cell_type": "code",
   "execution_count": 35,
   "metadata": {},
   "outputs": [],
   "source": [
    "#\n",
    "file_1 ='short_protein.fasta'\n",
    "\n",
    "#\n",
    "file_2 ='short_protein_fragments.fasta'"
   ]
  },
  {
   "cell_type": "code",
   "execution_count": 83,
   "metadata": {},
   "outputs": [],
   "source": [
    "##########################################################\n",
    "# Create a function to compute molecular weight\n",
    "##########################################################\n",
    "\n",
    "\n",
    "def function_molecular_weight(sequence_text):\n",
    "    # Here is a Python dictionary in which I stored the molecular weights listed in the above URL\n",
    "    weights = {\n",
    "        'A': 71.0788,\n",
    "        'R': 156.1875,\n",
    "        'N': 114.1038,\n",
    "        'D': 115.0886,\n",
    "        'C': 103.1388,\n",
    "        'E': 129.1155,\n",
    "        'Q': 128.1307,\n",
    "        'G': 57.0519,\n",
    "        'H': 137.1411,\n",
    "        'I': 113.1594,\n",
    "        'L': 113.1594,\n",
    "        'K': 128.1741,\n",
    "        'M': 131.1926,\n",
    "        'F': 147.1766,\n",
    "        'P': 97.1167,\n",
    "        'S': 87.0782,\n",
    "        'T': 101.1051,\n",
    "        'W': 186.2132,\n",
    "        'Y': 163.1760,\n",
    "        'V': 99.1326\n",
    "    }\n",
    "\n",
    "    # Here we compute the mass, using the weights of the dictionary\n",
    "    weight = sum(weights[p] for p in sequence_text)\n",
    "\n",
    "    return weight\n"
   ]
  },
  {
   "cell_type": "code",
   "execution_count": 62,
   "metadata": {},
   "outputs": [
    {
     "name": "stdout",
     "output_type": "stream",
     "text": [
      "The protein is : IEEATHMTPCYELHGLRWVQIQDYAINVMQCL\n",
      "The molecular weight of that protein is 3788.3867000000005\n"
     ]
    }
   ],
   "source": [
    "##########################################################\n",
    "# Treat File 1\n",
    "##########################################################\n",
    "\n",
    "#\n",
    "for seq_record in SeqIO.parse(open(file_1, mode='r'), 'fasta'):\n",
    "\n",
    "\n",
    "    protein_sequence = str(seq_record.seq)\n",
    "\n",
    "    # Compute Molecular weight for the protein sequence\n",
    "    protein_molecular_weight = function_molecular_weight(protein_sequence)\n",
    "\n",
    "\n",
    "# Here we print the result\n",
    "print(\"The protein is : \" + protein_sequence)\n",
    "print(\"The molecular weight of that protein is \" + str(protein_molecular_weight))"
   ]
  },
  {
   "cell_type": "code",
   "execution_count": 95,
   "metadata": {},
   "outputs": [
    {
     "name": "stdout",
     "output_type": "stream",
     "text": [
      "Total of unique fragments that could be used to re-build the protein  : 11\n",
      "These fragments are :\n",
      "['TPCYELHGLRWV', 'HGLRWVQIQDYAINV', 'TPCYELHGLRWVQIQDYA', 'QIQDY', 'IEEATHM', 'HMTPCYELHGLRWV', 'MQCL', 'IEEATHMTPCYELHGLRWV', 'YAINVMQCL', 'QIQD', 'AINV']\n"
     ]
    }
   ],
   "source": [
    "##########################################################\n",
    "# Treat File 2 : Insert all fragments in a List (only if they are relevant for the protein)\n",
    "##########################################################\n",
    "\n",
    "# Define an empty list in which to insert relevant fragments\n",
    "list_relevant_fragments = []\n",
    "\n",
    "# Loop through all fragments found in the 2nd input file\n",
    "for seq_record in SeqIO.parse(open(file_2, mode='r'), 'fasta'):\n",
    "\n",
    "    # Check if fragment is relevant by checking if it is found somewhere in the protein\n",
    "    if protein_sequence.find(str(seq_record.seq)) >= 0:\n",
    "\n",
    "        # For each relevant fragments found, insert it in the list\n",
    "        list_relevant_fragments.insert(0, str(seq_record.seq))\n",
    "\n",
    "\n",
    "print('Total of unique fragments that could be used to re-build the protein  : ' + str(len(list_relevant_fragments)))\n",
    "\n",
    "print('These fragments are :')\n",
    "print(list_relevant_fragments)"
   ]
  },
  {
   "cell_type": "code",
   "execution_count": 105,
   "metadata": {},
   "outputs": [
    {
     "name": "stdout",
     "output_type": "stream",
     "text": [
      "Testing combinations of 1 fragments\n",
      "Testing combinations of 2 fragments\n",
      "Testing combinations of 3 fragments\n",
      "This combinations weight matches the protein weight : \n",
      "['IEEATHMTPCYELHGLRWV', 'YAINVMQCL', 'QIQD']\n",
      "With as weight : 3788.3867\n",
      "Testing combinations of 4 fragments\n",
      "This combinations weight matches the protein weight : \n",
      "['TPCYELHGLRWV', 'IEEATHM', 'YAINVMQCL', 'QIQD']\n",
      "With as weight : 3788.3867\n",
      "This combinations weight matches the protein weight : \n",
      "['QIQDY', 'MQCL', 'IEEATHMTPCYELHGLRWV', 'AINV']\n",
      "With as weight : 3788.3867\n",
      "Testing combinations of 5 fragments\n",
      "This combinations weight matches the protein weight : \n",
      "['TPCYELHGLRWV', 'QIQDY', 'IEEATHM', 'MQCL', 'AINV']\n",
      "With as weight : 3788.3867\n",
      "Testing combinations of 6 fragments\n",
      "Testing combinations of 7 fragments\n",
      "Testing combinations of 8 fragments\n",
      "Testing combinations of 9 fragments\n",
      "Testing combinations of 10 fragments\n",
      "Testing combinations of 11 fragments\n"
     ]
    }
   ],
   "source": [
    "##########################################################\n",
    "# Generate all possible combinations of the fragments, and compute the weight of each combinations\n",
    "#   For each combination, assess if its weight matches the total proteins weight\n",
    "##########################################################\n",
    "\n",
    "\n",
    "import itertools\n",
    "\n",
    "\n",
    "# This will make a loop from 1 to X, with X being the total number of different fragments in the 2nd file\n",
    "for i in range(1, len(list_relevant_fragments)+1):\n",
    "\n",
    "    # printing which size of combinations is being tested here\n",
    "    print('Testing combinations of ' + str(i) + ' fragments')\n",
    "\n",
    "    # This will create a list with all possible combinations of fragments, with a max of i fragments (i is defined here above)\n",
    "    fragment_combination = [list(x) for x in itertools.combinations(list_relevant_fragments, i)]\n",
    "\n",
    "    # Compute the weight of each combination\n",
    "    for combination in fragment_combination:\n",
    "\n",
    "        # Give 0 as default value for total weight\n",
    "        Total_Weight = 0\n",
    "\n",
    "        # Add the weight of each fragment in the combination to the Total_Weight\n",
    "        for fragment in combination:\n",
    "\n",
    "            # Add the weight of the sequence to the total weight of the combination\n",
    "            Total_Weight += function_molecular_weight(str(fragment))\n",
    "\n",
    "        # Test if the Total_Weight of that combination equals the weight of the complete protein (rounded at 4 decimal digits)\n",
    "        if round(Total_Weight, 4) == round(protein_molecular_weight, 4) :\n",
    "\n",
    "            print('This combination''s weight matches the protein weight : ')\n",
    "            print(combination)\n",
    "            print('With as weight : ' + str(round(protein_molecular_weight, 4)))\n"
   ]
  },
  {
   "cell_type": "markdown",
   "metadata": {},
   "source": [
    "## Question 3"
   ]
  },
  {
   "cell_type": "markdown",
   "metadata": {},
   "source": [
    "Write a script, that given the same input as before, i.e., a sequence file containing a single protein sequence, and a file containing fragments, checks whether the fragments with that weight indeed cover the protein without overlap. For bonus points, take into account that there may be multiple candidate sets of fragments.\n",
    "* Example: the sequence “QYLCRNI” with molecular weight 891.0 is covered by the fragments “CR” (259.3), “QYL” (404.5), and “NI” (227.3).\n"
   ]
  },
  {
   "cell_type": "code",
   "execution_count": 74,
   "metadata": {},
   "outputs": [
    {
     "name": "stdout",
     "output_type": "stream",
     "text": [
      "Testing combinations of 1 fragments\n",
      "Testing combinations of 2 fragments\n",
      "Testing combinations of 3 fragments\n",
      "The sequence IEEATHMTPCYELHGLRWVQIQDYAINVMQCL\n",
      "With as weight : 3788.3867\n",
      "can be covered by the fragments\n",
      "['IEEATHMTPCYELHGLRWV', 'YAINVMQCL', 'QIQD']\n",
      "With as weight : 3788.3867\n",
      "Testing combinations of 4 fragments\n",
      "The sequence IEEATHMTPCYELHGLRWVQIQDYAINVMQCL\n",
      "With as weight : 3788.3867\n",
      "can be covered by the fragments\n",
      "['TPCYELHGLRWV', 'IEEATHM', 'YAINVMQCL', 'QIQD']\n",
      "With as weight : 3788.3867\n",
      "The sequence IEEATHMTPCYELHGLRWVQIQDYAINVMQCL\n",
      "With as weight : 3788.3867\n",
      "can be covered by the fragments\n",
      "['QIQDY', 'MQCL', 'IEEATHMTPCYELHGLRWV', 'AINV']\n",
      "With as weight : 3788.3867\n",
      "Testing combinations of 5 fragments\n",
      "The sequence IEEATHMTPCYELHGLRWVQIQDYAINVMQCL\n",
      "With as weight : 3788.3867\n",
      "can be covered by the fragments\n",
      "['TPCYELHGLRWV', 'QIQDY', 'IEEATHM', 'MQCL', 'AINV']\n",
      "With as weight : 3788.3867\n",
      "Testing combinations of 6 fragments\n",
      "Testing combinations of 7 fragments\n",
      "Testing combinations of 8 fragments\n",
      "Testing combinations of 9 fragments\n",
      "Testing combinations of 10 fragments\n",
      "Testing combinations of 11 fragments\n"
     ]
    }
   ],
   "source": [
    "##########################################################\n",
    "# Generate all possible combinations of the fragments, and compute the weight of each combinations\n",
    "#   For each combination, assess if its weight matches the total proteins weight\n",
    "##########################################################\n",
    "\n",
    "\n",
    "import itertools\n",
    "\n",
    "\n",
    "# This will make a loop from 1 to X, with X being the total number of different fragments in the 2nd file\n",
    "for i in range(1, len(list_relevant_fragments)+1):\n",
    "\n",
    "    # printing which size of combinations is being tested here\n",
    "    print('Testing combinations of ' + str(i) + ' fragments')\n",
    "\n",
    "    # This will create a list with all possible combinations of fragments, with a max of i fragments (i is defined here above)\n",
    "    fragment_combination = [list(x) for x in itertools.combinations(list_relevant_fragments, i)]\n",
    "\n",
    "    # Compute the weight of each combination\n",
    "    for combination in fragment_combination:\n",
    "\n",
    "        # Give 0 as default value for total weight\n",
    "        Total_Weight = 0\n",
    "\n",
    "        # Add the weight of each fragment in the combination to the Total_Weight\n",
    "        for fragment in combination:\n",
    "\n",
    "            # Add the weight of the sequence to the total weight of the combination\n",
    "            Total_Weight += function_molecular_weight(str(fragment))\n",
    "\n",
    "        # Test if the Total_Weight of that combination equals the weight of the complete protein (rounded at 4 decimal digits)\n",
    "        if round(Total_Weight, 4) == round(protein_molecular_weight, 4) :\n",
    "            \n",
    "            print('The sequence ' + seq_record.seq)\n",
    "            print('With as weight : ' + str(round(protein_molecular_weight, 4)))\n",
    "            print('can be covered by the fragments')\n",
    "            print(combination)\n",
    "            print('With as weight : ' + str(round(protein_molecular_weight, 4)))"
   ]
  },
  {
   "cell_type": "markdown",
   "metadata": {},
   "source": [
    "## Question 4 L"
   ]
  },
  {
   "cell_type": "markdown",
   "metadata": {},
   "source": [
    "Write a script that, given the name of a FASTA file and a protein sequence identifier, writes all possible tRNA sequences from which the protein sequence may have been translated, but only if there are less than 5000. If the given sequence identifier does not occur in the FASTA file, or if there are more than 5000 possible sequences, an appropriate error message is printed. Note that there are potentially very many tRNA sequences, so write a function to count the total number, without generating the sequences first.\n",
    "* Example: for the sequence “CH” the script’s output would be “UGUCAU”, “UGUCAC”, “UGCCAU”, and “UGCCAC”.\n"
   ]
  },
  {
   "cell_type": "code",
   "execution_count": 75,
   "metadata": {},
   "outputs": [],
   "source": [
    "from Bio import SeqIO\n",
    "from Bio.SeqIO import SeqRecord\n",
    "from Bio.Seq import Seq\n",
    "from Bio import SeqUtils"
   ]
  },
  {
   "cell_type": "code",
   "execution_count": 106,
   "metadata": {},
   "outputs": [],
   "source": [
    "table={\n",
    "        \"F\":[\"UUU\", \"UUC\"], \n",
    "        \"L\":[\"UUA\", \"UUG\", \"CUU\", \"CUC\", \"CUA\", \"CUG\"],\n",
    "        \"S\":[\"UCU\", \"UCC\", \"UCA\", \"UCG\"],\n",
    "        \"Y\":[\"UAU\", \"UAC\"], \n",
    "        \"C\":[\"UGU\", \"UGC\"], \n",
    "        \"W\":[\"UGG\"],\n",
    "        \"P\":[\"CCU\", \"CCC\", \"CCA\", \"CCG\"],\n",
    "        \"H\":[\"CAU\", \"CAC\"], \n",
    "        \"Q\":[\"CAA\", \"CAG\"],\n",
    "        \"R\":[\"CGU\", \"CGC\", \"CGA\", \"CGG\", \"AGA\", \"AGG\"],\n",
    "        \"I\":[\"AUU\", \"AUC\", \"AUA\"], \n",
    "        \"M\":[\"AUG\"],\n",
    "        \"T\":[\"ACU\", \"ACC\", \"ACA\", \"ACG\"],\n",
    "        \"N\":[\"AAU\", \"AAC\"], \n",
    "        \"K\":[\"AAA\", \"AAG\"],\n",
    "        \"S\":[\"AGU\", \"AGC\"],\n",
    "        \"V\":[\"GUU\", \"GUC\", \"GUA\", \"GUG\"],\n",
    "        \"A\":[\"GCU\", \"GCC\", \"GCA\", \"GCG\"],\n",
    "        \"D\":[\"GAU\", \"GAC\"], \n",
    "        \"E\":[\"GAA\", \"GAG\"],\n",
    "        \"G\":[\"GGU\", \"GGC\", \"GGA\", \"GGG\"]\n",
    "    }"
   ]
  },
  {
   "cell_type": "code",
   "execution_count": 119,
   "metadata": {},
   "outputs": [],
   "source": [
    "identifier = ['Seq_compl']\n",
    "for record in SeqIO.parse('short_protein.fasta', \"fasta\"):\n",
    "    id = record.id\n",
    "    if id in identifier:\n",
    "        print(record.seq)"
   ]
  },
  {
   "cell_type": "code",
   "execution_count": 135,
   "metadata": {},
   "outputs": [],
   "source": [
    "def count_tRNA(file, identifier):\n",
    "    product = 1\n",
    "    for record in SeqIO.parse(file, 'fasta'):\n",
    "        id = record.id\n",
    "        if id in identifier:\n",
    "            for aa in record.seq:\n",
    "                if isinstance(table[aa], list):          #'list' give a bouillian response True if the values of the dict are a list, False if not\n",
    "                    product *= len(table[aa])\n",
    "            return (product)\n",
    "        else:\n",
    "            print('error')"
   ]
  },
  {
   "cell_type": "code",
   "execution_count": 136,
   "metadata": {},
   "outputs": [],
   "source": [
    "import itertools\n",
    "from itertools import product"
   ]
  },
  {
   "cell_type": "code",
   "execution_count": 137,
   "metadata": {},
   "outputs": [],
   "source": [
    "def print_seq (file, identifier):\n",
    "    for record in SeqIO.parse(file, 'fasta'):\n",
    "        id = record.id\n",
    "        seq = ()\n",
    "        if id in identifier:\n",
    "            seq = list(record.seq)\n",
    "            return seq"
   ]
  },
  {
   "cell_type": "code",
   "execution_count": 138,
   "metadata": {},
   "outputs": [],
   "source": [
    "def give_combination (file, identifier):\n",
    "    key_list = print_seq(file, identifier)\n",
    "    res = [table[key] for key in key_list]\n",
    "    if count_tRNA(file, identifier) <= 5000:\n",
    "        print(list(product(*res)))\n",
    "    elif count_tRNA(file, identifier) >= 5000:\n",
    "        print('Too many possibilities')"
   ]
  },
  {
   "cell_type": "code",
   "execution_count": 142,
   "metadata": {},
   "outputs": [],
   "source": [
    "identifier = ['seq_compl']"
   ]
  },
  {
   "cell_type": "code",
   "execution_count": 140,
   "metadata": {},
   "outputs": [
    {
     "data": {
      "text/plain": [
       "37572373905408"
      ]
     },
     "execution_count": 140,
     "metadata": {},
     "output_type": "execute_result"
    }
   ],
   "source": [
    "count_tRNA('short_protein.fasta', identifier)"
   ]
  },
  {
   "cell_type": "code",
   "execution_count": 141,
   "metadata": {},
   "outputs": [
    {
     "name": "stdout",
     "output_type": "stream",
     "text": [
      "Too many possibilities\n"
     ]
    }
   ],
   "source": [
    "give_combination('short_protein.fasta', identifier)"
   ]
  },
  {
   "cell_type": "code",
   "execution_count": null,
   "metadata": {},
   "outputs": [],
   "source": []
  }
 ],
 "metadata": {
  "kernelspec": {
   "display_name": "Python 3",
   "language": "python",
   "name": "python3"
  },
  "language_info": {
   "codemirror_mode": {
    "name": "ipython",
    "version": 3
   },
   "file_extension": ".py",
   "mimetype": "text/x-python",
   "name": "python",
   "nbconvert_exporter": "python",
   "pygments_lexer": "ipython3",
   "version": "3.8.3"
  }
 },
 "nbformat": 4,
 "nbformat_minor": 4
}
